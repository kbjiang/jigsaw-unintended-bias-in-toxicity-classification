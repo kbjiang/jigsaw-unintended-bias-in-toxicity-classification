{
 "cells": [
  {
   "cell_type": "markdown",
   "metadata": {},
   "source": [
    "###  [Welcome from Jigsaw](https://www.kaggle.com/c/jigsaw-unintended-bias-in-toxicity-classification/discussion/87242#latest-553706)"
   ]
  },
  {
   "cell_type": "markdown",
   "metadata": {},
   "source": [
    " * Previous models can learn harmful unintended baiases (Specifically, models learned to associate identity words related to frequently attacked groups with toxicity, because those identity words were overwhelmingly used in toxic contexts in the training data.)  \n",
    " * Synthetic data helps on short comments (https://medium.com/the-false-positive/increasing-transparency-in-machine-learning-models-311ee08ca58a; https://arxiv.org/pdf/1903.04561.pdf)\n",
    " * \n",
    " \n",
    " \n",
    " * [medium post with overview of the problem](https://medium.com/the-false-positive/unintended-bias-and-names-of-frequently-targeted-groups-8e0b81f80a23)\n",
    " * [more discussion on bias](https://conversationai.github.io/bias)\n",
    " * [wiki page explaining data schema](https://meta.wikimedia.org/wiki/Research:Detox/Data_Release) \n",
    " * [paper, with explanation on crowdsourcing data collection](https://arxiv.org/pdf/1610.08914.pdf)\n",
    " * [conversationai GitHub](https://github.com/conversationai/unintended-ml-bias-analysis)"
   ]
  },
  {
   "cell_type": "markdown",
   "metadata": {},
   "source": [
    "### [Competition Metric](https://www.kaggle.com/c/jigsaw-unintended-bias-in-toxicity-classification/overview/evaluation)"
   ]
  },
  {
   "cell_type": "markdown",
   "metadata": {},
   "source": [
    "This whole [paper](https://arxiv.org/pdf/1903.04561.pdf) dedicates to metric discussion and for this competition we are only using AUC-based metrics."
   ]
  }
 ],
 "metadata": {
  "kernelspec": {
   "display_name": "Python [conda env:NLP_Jigsaw_Toxic]",
   "language": "python",
   "name": "conda-env-NLP_Jigsaw_Toxic-py"
  },
  "language_info": {
   "codemirror_mode": {
    "name": "ipython",
    "version": 3
   },
   "file_extension": ".py",
   "mimetype": "text/x-python",
   "name": "python",
   "nbconvert_exporter": "python",
   "pygments_lexer": "ipython3",
   "version": "3.7.3"
  }
 },
 "nbformat": 4,
 "nbformat_minor": 2
}
